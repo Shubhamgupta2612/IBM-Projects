{
    "cells": [
        {
            "metadata": {
                "collapsed": true
            },
            "cell_type": "markdown",
            "source": "# My First Python Notebook "
        },
        {
            "metadata": {},
            "cell_type": "markdown",
            "source": "### **Shubham Gupta** : Built by Humans"
        },
        {
            "metadata": {},
            "cell_type": "markdown",
            "source": "#### *I am a data analyst and i have seen and played with lots of number now i have to teach them*"
        },
        {
            "metadata": {},
            "cell_type": "markdown",
            "source": "# **Below is the function which replies you back and says \"Hello\"!**"
        },
        {
            "metadata": {},
            "cell_type": "code",
            "source": "def name():\n    name_1 = input(\"What is your name:\")\n    print_1 = \"Hello! \" + name_1 + \" , nice to meet you. I am IBM Watson Studio\"\n    return print_1\n\nname()",
            "execution_count": 5,
            "outputs": [
                {
                    "output_type": "stream",
                    "name": "stdout",
                    "text": "What is your name: Shubham Gupta\n"
                },
                {
                    "output_type": "execute_result",
                    "execution_count": 5,
                    "data": {
                        "text/plain": "'Hello!  Shubham Gupta , nice to meet you. I am IBM Watson Studio'"
                    },
                    "metadata": {}
                }
            ]
        },
        {
            "metadata": {},
            "cell_type": "markdown",
            "source": "***\n"
        },
        {
            "metadata": {},
            "cell_type": "markdown",
            "source": "- Like the project, if avialable.\n    > 1. Share\n    > 2. I hope you like it\n    \n  "
        },
        {
            "metadata": {},
            "cell_type": "markdown",
            "source": "<div class=\"alert alert-block alert-success\">\n<b>Thank you</b> for testing my functions\n</div>"
        },
        {
            "metadata": {},
            "cell_type": "code",
            "source": "",
            "execution_count": null,
            "outputs": []
        },
        {
            "metadata": {},
            "cell_type": "code",
            "source": "",
            "execution_count": null,
            "outputs": []
        }
    ],
    "metadata": {
        "kernelspec": {
            "name": "python3",
            "display_name": "Python 3.7",
            "language": "python"
        },
        "language_info": {
            "name": "python",
            "version": "3.7.11",
            "mimetype": "text/x-python",
            "codemirror_mode": {
                "name": "ipython",
                "version": 3
            },
            "pygments_lexer": "ipython3",
            "nbconvert_exporter": "python",
            "file_extension": ".py"
        }
    },
    "nbformat": 4,
    "nbformat_minor": 1
}