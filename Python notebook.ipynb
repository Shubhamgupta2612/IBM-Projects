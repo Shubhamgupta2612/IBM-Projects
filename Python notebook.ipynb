{
    "cells": [
        {
            "cell_type": "markdown",
            "metadata": {
                "collapsed": true
            },
            "source": "# First Python Notebook "
        },
        {
            "cell_type": "markdown",
            "metadata": {},
            "source": "***\n## **Meet IBM Watson Studio**\n### Below is the function which replies you back and says \"Hello\"!"
        },
        {
            "cell_type": "markdown",
            "metadata": {},
            "source": "***\n### **Test is yourself**\n#### *This function asks for input*"
        },
        {
            "cell_type": "code",
            "execution_count": 5,
            "metadata": {},
            "outputs": [
                {
                    "name": "stdout",
                    "output_type": "stream",
                    "text": "What is your name: Shubham Gupta\n"
                },
                {
                    "data": {
                        "text/plain": "'Hello!  Shubham Gupta , nice to meet you. I am IBM Watson Studio'"
                    },
                    "execution_count": 5,
                    "metadata": {},
                    "output_type": "execute_result"
                }
            ],
            "source": "def name():\n    name_1 = input(\"What is your name:\")\n    print_1 = \"Hello! \" + name_1 + \" , nice to meet you. I am IBM Watson Studio\"\n    return print_1\n\nname()"
        },
        {
            "cell_type": "markdown",
            "metadata": {},
            "source": "<div class=\"alert alert-block alert-success\">\n<b>Thank you</b> for testing my application\n</div>"
        },
        {
            "cell_type": "code",
            "execution_count": null,
            "metadata": {},
            "outputs": [],
            "source": ""
        },
        {
            "cell_type": "code",
            "execution_count": null,
            "metadata": {},
            "outputs": [],
            "source": ""
        },
        {
            "cell_type": "code",
            "execution_count": null,
            "metadata": {},
            "outputs": [],
            "source": ""
        },
        {
            "cell_type": "code",
            "execution_count": null,
            "metadata": {},
            "outputs": [],
            "source": ""
        }
    ],
    "metadata": {
        "kernelspec": {
            "display_name": "Python 3.7",
            "language": "python",
            "name": "python3"
        },
        "language_info": {
            "codemirror_mode": {
                "name": "ipython",
                "version": 3
            },
            "file_extension": ".py",
            "mimetype": "text/x-python",
            "name": "python",
            "nbconvert_exporter": "python",
            "pygments_lexer": "ipython3",
            "version": "3.7.11"
        }
    },
    "nbformat": 4,
    "nbformat_minor": 1
}